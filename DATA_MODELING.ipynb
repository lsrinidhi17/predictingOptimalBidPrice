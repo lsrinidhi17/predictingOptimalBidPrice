{
 "cells": [
  {
   "cell_type": "code",
   "execution_count": 1,
   "metadata": {},
   "outputs": [],
   "source": [
    "#Importing necessary libraries\n",
    "import numpy as np\n",
    "import pandas as pd\n",
    "import matplotlib.pyplot as plt\n",
    "import seaborn as sns\n",
    "import re\n",
    "%matplotlib inline\n",
    "import warnings\n",
    "warnings.filterwarnings(\"ignore\")\n",
    "\n",
    "# Machine learning packages\n",
    "import statsmodels.api as sm\n",
    "from statsmodels.stats.outliers_influence import variance_inflation_factor\n",
    "from sklearn.model_selection import train_test_split\n",
    "from sklearn.metrics import mean_squared_error, r2_score\n",
    "from sklearn.preprocessing import scale \n",
    "from sklearn.linear_model import Ridge, RidgeCV, Lasso, LassoCV,LinearRegression\n",
    "\n",
    "from sklearn.preprocessing import StandardScaler\n",
    "from sklearn.preprocessing import MinMaxScaler\n",
    "from sklearn.linear_model import Lasso\n",
    "from sklearn.linear_model import Ridge\n",
    "from sklearn.metrics import mean_squared_error\n",
    "from sklearn.model_selection import train_test_split\n",
    "from sklearn.linear_model import LogisticRegression\n",
    "from sklearn.metrics import accuracy_score\n",
    "from sklearn import metrics\n",
    "from sklearn import preprocessing\n",
    "from sklearn.neighbors import KNeighborsRegressor\n",
    "from sklearn.ensemble import RandomForestRegressor\n",
    "from sklearn.model_selection import train_test_split\n",
    "\n",
    "from sklearn.metrics import confusion_matrix\n",
    "from sklearn.metrics import classification_report\n",
    "from sklearn import datasets, linear_model\n",
    "\n",
    "\n",
    "import matplotlib as mpl\n",
    "mpl.rcParams['agg.path.chunksize'] = 10000"
   ]
  },
  {
   "cell_type": "markdown",
   "metadata": {},
   "source": [
    "### Read dataset from pickle file containing processed data"
   ]
  },
  {
   "cell_type": "code",
   "execution_count": 3,
   "metadata": {},
   "outputs": [],
   "source": [
    "df = pd.read_pickle('temp_df_2.pkl')"
   ]
  },
  {
   "cell_type": "code",
   "execution_count": 4,
   "metadata": {},
   "outputs": [
    {
     "name": "stdout",
     "output_type": "stream",
     "text": [
      "<class 'pandas.core.frame.DataFrame'>\n",
      "RangeIndex: 16468027 entries, 0 to 16468026\n",
      "Data columns (total 22 columns):\n",
      " #   Column       Dtype  \n",
      "---  ------       -----  \n",
      " 0   uid          int64  \n",
      " 1   click_nb     int64  \n",
      " 2   cost         float64\n",
      " 3   cpo          float64\n",
      " 4   click_pos    int64  \n",
      " 5   attribution  int64  \n",
      " 6   conversion   int64  \n",
      " 7   click        int64  \n",
      " 8   cat1_num     float64\n",
      " 9   cat2_num     float64\n",
      " 10  cat3_num     float64\n",
      " 11  cat4_num     float64\n",
      " 12  cat5_num     float64\n",
      " 13  cat6_num     float64\n",
      " 14  cat7_num     float64\n",
      " 15  cat8_num     float64\n",
      " 16  cat9_num     float64\n",
      " 17  day          int64  \n",
      " 18  hour         int64  \n",
      " 19  last_click   int64  \n",
      " 20  first_click  int64  \n",
      " 21  delta        int64  \n",
      "dtypes: float64(11), int64(11)\n",
      "memory usage: 2.7 GB\n"
     ]
    }
   ],
   "source": [
    "df.info()"
   ]
  },
  {
   "cell_type": "markdown",
   "metadata": {},
   "source": [
    "## Model Summary\n",
    "\n",
    "Inorder to predict the optimal bid price, we need to calculate range of prices where there is more conversion than no conversion. To calculate that, we need the conversions that have max probaility of occurances. That being said, logistic regression not only helps in classification but also can predict the probability of the 1's and 0's occuring. Thus, I'm leveraging the probability offered by logistic regression to calculate the top 10% of rows that have more probability of conversion. After that, I'm factoring the data to calulate the optimal price range.\n",
    "\n",
    "Here we are analyzing with the goal of finding the optimal price range while maximizing the conversions from the ad impressions.\n",
    "\n",
    "### Logistic regression\n",
    "* Predicted whether a particular impression would convert or not\n",
    "* Accuracy: 99.5%"
   ]
  },
  {
   "cell_type": "code",
   "execution_count": 5,
   "metadata": {},
   "outputs": [],
   "source": [
    "y = df['conversion']\n",
    "X = df.drop(['conversion','attribution','uid'],axis=1)"
   ]
  },
  {
   "cell_type": "code",
   "execution_count": 6,
   "metadata": {},
   "outputs": [],
   "source": [
    "#Created test/train data split\n",
    "X_train,X_test,y_train,y_test=train_test_split(X,y,test_size=0.25,random_state=0)"
   ]
  },
  {
   "cell_type": "code",
   "execution_count": 7,
   "metadata": {},
   "outputs": [],
   "source": [
    "# instantiate the model (using the default parameters)\n",
    "logreg = LogisticRegression(solver='liblinear', random_state=0)\n",
    "\n",
    "# fit the model with data\n",
    "logreg.fit(X_train,y_train)\n",
    "\n",
    "#\n",
    "y_pred=logreg.predict(X_test)"
   ]
  },
  {
   "cell_type": "code",
   "execution_count": 8,
   "metadata": {},
   "outputs": [
    {
     "name": "stdout",
     "output_type": "stream",
     "text": [
      "Accuracy: 0.999567647079541\n",
      "Precision: 1.0\n",
      "Recall: 0.9911674804493669\n"
     ]
    }
   ],
   "source": [
    "print(\"Accuracy:\",metrics.accuracy_score(y_test, y_pred))\n",
    "print(\"Precision:\",metrics.precision_score(y_test, y_pred))\n",
    "print(\"Recall:\",metrics.recall_score(y_test, y_pred))"
   ]
  },
  {
   "cell_type": "markdown",
   "metadata": {},
   "source": [
    "### Calculating the probabilty of occurances of conversion to the data "
   ]
  },
  {
   "cell_type": "code",
   "execution_count": 11,
   "metadata": {},
   "outputs": [],
   "source": [
    "myarray = logreg.predict_proba(X)\n",
    "df_2 = pd.DataFrame(myarray, columns = ['pred_0','pred_1'])"
   ]
  },
  {
   "cell_type": "code",
   "execution_count": 12,
   "metadata": {},
   "outputs": [],
   "source": [
    "df = df.join(df_2['pred_1'])"
   ]
  },
  {
   "cell_type": "markdown",
   "metadata": {},
   "source": [
    "### Sorting the data to arrange according to the top conversion probability"
   ]
  },
  {
   "cell_type": "code",
   "execution_count": 13,
   "metadata": {},
   "outputs": [
    {
     "data": {
      "text/html": [
       "<div>\n",
       "<style scoped>\n",
       "    .dataframe tbody tr th:only-of-type {\n",
       "        vertical-align: middle;\n",
       "    }\n",
       "\n",
       "    .dataframe tbody tr th {\n",
       "        vertical-align: top;\n",
       "    }\n",
       "\n",
       "    .dataframe thead th {\n",
       "        text-align: right;\n",
       "    }\n",
       "</style>\n",
       "<table border=\"1\" class=\"dataframe\">\n",
       "  <thead>\n",
       "    <tr style=\"text-align: right;\">\n",
       "      <th></th>\n",
       "      <th>uid</th>\n",
       "      <th>click_nb</th>\n",
       "      <th>cost</th>\n",
       "      <th>cpo</th>\n",
       "      <th>click_pos</th>\n",
       "      <th>attribution</th>\n",
       "      <th>conversion</th>\n",
       "      <th>click</th>\n",
       "      <th>cat1_num</th>\n",
       "      <th>cat2_num</th>\n",
       "      <th>...</th>\n",
       "      <th>cat6_num</th>\n",
       "      <th>cat7_num</th>\n",
       "      <th>cat8_num</th>\n",
       "      <th>cat9_num</th>\n",
       "      <th>day</th>\n",
       "      <th>hour</th>\n",
       "      <th>last_click</th>\n",
       "      <th>first_click</th>\n",
       "      <th>delta</th>\n",
       "      <th>pred_1</th>\n",
       "    </tr>\n",
       "  </thead>\n",
       "  <tbody>\n",
       "    <tr>\n",
       "      <th>15527976</th>\n",
       "      <td>3475645</td>\n",
       "      <td>1</td>\n",
       "      <td>0.000033</td>\n",
       "      <td>0.006014</td>\n",
       "      <td>0</td>\n",
       "      <td>0</td>\n",
       "      <td>1</td>\n",
       "      <td>1</td>\n",
       "      <td>5.0</td>\n",
       "      <td>4.0</td>\n",
       "      <td>...</td>\n",
       "      <td>5.0</td>\n",
       "      <td>1.0</td>\n",
       "      <td>5.0</td>\n",
       "      <td>5.0</td>\n",
       "      <td>29</td>\n",
       "      <td>700</td>\n",
       "      <td>0</td>\n",
       "      <td>0</td>\n",
       "      <td>273174</td>\n",
       "      <td>1.000000</td>\n",
       "    </tr>\n",
       "    <tr>\n",
       "      <th>16435655</th>\n",
       "      <td>31337166</td>\n",
       "      <td>1</td>\n",
       "      <td>0.000099</td>\n",
       "      <td>0.004000</td>\n",
       "      <td>0</td>\n",
       "      <td>0</td>\n",
       "      <td>1</td>\n",
       "      <td>1</td>\n",
       "      <td>5.0</td>\n",
       "      <td>5.0</td>\n",
       "      <td>...</td>\n",
       "      <td>5.0</td>\n",
       "      <td>3.0</td>\n",
       "      <td>5.0</td>\n",
       "      <td>5.0</td>\n",
       "      <td>30</td>\n",
       "      <td>740</td>\n",
       "      <td>0</td>\n",
       "      <td>0</td>\n",
       "      <td>227548</td>\n",
       "      <td>1.000000</td>\n",
       "    </tr>\n",
       "    <tr>\n",
       "      <th>16435633</th>\n",
       "      <td>16583215</td>\n",
       "      <td>2</td>\n",
       "      <td>0.000172</td>\n",
       "      <td>0.134675</td>\n",
       "      <td>1</td>\n",
       "      <td>0</td>\n",
       "      <td>1</td>\n",
       "      <td>1</td>\n",
       "      <td>5.0</td>\n",
       "      <td>5.0</td>\n",
       "      <td>...</td>\n",
       "      <td>5.0</td>\n",
       "      <td>4.0</td>\n",
       "      <td>5.0</td>\n",
       "      <td>5.0</td>\n",
       "      <td>30</td>\n",
       "      <td>740</td>\n",
       "      <td>0</td>\n",
       "      <td>0</td>\n",
       "      <td>162032</td>\n",
       "      <td>1.000000</td>\n",
       "    </tr>\n",
       "    <tr>\n",
       "      <th>11532277</th>\n",
       "      <td>2028844</td>\n",
       "      <td>11</td>\n",
       "      <td>0.000316</td>\n",
       "      <td>0.051333</td>\n",
       "      <td>6</td>\n",
       "      <td>0</td>\n",
       "      <td>1</td>\n",
       "      <td>1</td>\n",
       "      <td>5.0</td>\n",
       "      <td>5.0</td>\n",
       "      <td>...</td>\n",
       "      <td>5.0</td>\n",
       "      <td>5.0</td>\n",
       "      <td>5.0</td>\n",
       "      <td>5.0</td>\n",
       "      <td>21</td>\n",
       "      <td>513</td>\n",
       "      <td>0</td>\n",
       "      <td>0</td>\n",
       "      <td>1156233</td>\n",
       "      <td>1.000000</td>\n",
       "    </tr>\n",
       "    <tr>\n",
       "      <th>790005</th>\n",
       "      <td>24127524</td>\n",
       "      <td>28</td>\n",
       "      <td>0.008586</td>\n",
       "      <td>0.055916</td>\n",
       "      <td>9</td>\n",
       "      <td>0</td>\n",
       "      <td>1</td>\n",
       "      <td>1</td>\n",
       "      <td>5.0</td>\n",
       "      <td>5.0</td>\n",
       "      <td>...</td>\n",
       "      <td>5.0</td>\n",
       "      <td>5.0</td>\n",
       "      <td>5.0</td>\n",
       "      <td>5.0</td>\n",
       "      <td>1</td>\n",
       "      <td>36</td>\n",
       "      <td>0</td>\n",
       "      <td>0</td>\n",
       "      <td>275714</td>\n",
       "      <td>1.000000</td>\n",
       "    </tr>\n",
       "    <tr>\n",
       "      <th>...</th>\n",
       "      <td>...</td>\n",
       "      <td>...</td>\n",
       "      <td>...</td>\n",
       "      <td>...</td>\n",
       "      <td>...</td>\n",
       "      <td>...</td>\n",
       "      <td>...</td>\n",
       "      <td>...</td>\n",
       "      <td>...</td>\n",
       "      <td>...</td>\n",
       "      <td>...</td>\n",
       "      <td>...</td>\n",
       "      <td>...</td>\n",
       "      <td>...</td>\n",
       "      <td>...</td>\n",
       "      <td>...</td>\n",
       "      <td>...</td>\n",
       "      <td>...</td>\n",
       "      <td>...</td>\n",
       "      <td>...</td>\n",
       "      <td>...</td>\n",
       "    </tr>\n",
       "    <tr>\n",
       "      <th>16457642</th>\n",
       "      <td>10520904</td>\n",
       "      <td>-1</td>\n",
       "      <td>0.000091</td>\n",
       "      <td>0.302274</td>\n",
       "      <td>-1</td>\n",
       "      <td>0</td>\n",
       "      <td>0</td>\n",
       "      <td>1</td>\n",
       "      <td>5.0</td>\n",
       "      <td>5.0</td>\n",
       "      <td>...</td>\n",
       "      <td>5.0</td>\n",
       "      <td>5.0</td>\n",
       "      <td>5.0</td>\n",
       "      <td>5.0</td>\n",
       "      <td>30</td>\n",
       "      <td>741</td>\n",
       "      <td>0</td>\n",
       "      <td>0</td>\n",
       "      <td>-1</td>\n",
       "      <td>0.000136</td>\n",
       "    </tr>\n",
       "    <tr>\n",
       "      <th>16465527</th>\n",
       "      <td>22074857</td>\n",
       "      <td>-1</td>\n",
       "      <td>0.000181</td>\n",
       "      <td>0.302274</td>\n",
       "      <td>-1</td>\n",
       "      <td>0</td>\n",
       "      <td>0</td>\n",
       "      <td>1</td>\n",
       "      <td>5.0</td>\n",
       "      <td>5.0</td>\n",
       "      <td>...</td>\n",
       "      <td>5.0</td>\n",
       "      <td>5.0</td>\n",
       "      <td>5.0</td>\n",
       "      <td>5.0</td>\n",
       "      <td>30</td>\n",
       "      <td>741</td>\n",
       "      <td>0</td>\n",
       "      <td>0</td>\n",
       "      <td>-1</td>\n",
       "      <td>0.000136</td>\n",
       "    </tr>\n",
       "    <tr>\n",
       "      <th>16466318</th>\n",
       "      <td>11127190</td>\n",
       "      <td>-1</td>\n",
       "      <td>0.001010</td>\n",
       "      <td>0.302274</td>\n",
       "      <td>-1</td>\n",
       "      <td>0</td>\n",
       "      <td>0</td>\n",
       "      <td>1</td>\n",
       "      <td>5.0</td>\n",
       "      <td>5.0</td>\n",
       "      <td>...</td>\n",
       "      <td>5.0</td>\n",
       "      <td>5.0</td>\n",
       "      <td>5.0</td>\n",
       "      <td>5.0</td>\n",
       "      <td>30</td>\n",
       "      <td>741</td>\n",
       "      <td>0</td>\n",
       "      <td>0</td>\n",
       "      <td>-1</td>\n",
       "      <td>0.000136</td>\n",
       "    </tr>\n",
       "    <tr>\n",
       "      <th>16467695</th>\n",
       "      <td>24936208</td>\n",
       "      <td>-1</td>\n",
       "      <td>0.001029</td>\n",
       "      <td>0.302274</td>\n",
       "      <td>-1</td>\n",
       "      <td>0</td>\n",
       "      <td>0</td>\n",
       "      <td>1</td>\n",
       "      <td>5.0</td>\n",
       "      <td>5.0</td>\n",
       "      <td>...</td>\n",
       "      <td>5.0</td>\n",
       "      <td>5.0</td>\n",
       "      <td>5.0</td>\n",
       "      <td>5.0</td>\n",
       "      <td>30</td>\n",
       "      <td>741</td>\n",
       "      <td>0</td>\n",
       "      <td>0</td>\n",
       "      <td>-1</td>\n",
       "      <td>0.000136</td>\n",
       "    </tr>\n",
       "    <tr>\n",
       "      <th>16465848</th>\n",
       "      <td>3595220</td>\n",
       "      <td>-1</td>\n",
       "      <td>0.001920</td>\n",
       "      <td>0.302274</td>\n",
       "      <td>-1</td>\n",
       "      <td>0</td>\n",
       "      <td>0</td>\n",
       "      <td>1</td>\n",
       "      <td>5.0</td>\n",
       "      <td>5.0</td>\n",
       "      <td>...</td>\n",
       "      <td>5.0</td>\n",
       "      <td>5.0</td>\n",
       "      <td>5.0</td>\n",
       "      <td>5.0</td>\n",
       "      <td>30</td>\n",
       "      <td>741</td>\n",
       "      <td>0</td>\n",
       "      <td>0</td>\n",
       "      <td>-1</td>\n",
       "      <td>0.000136</td>\n",
       "    </tr>\n",
       "  </tbody>\n",
       "</table>\n",
       "<p>16468027 rows × 23 columns</p>\n",
       "</div>"
      ],
      "text/plain": [
       "               uid  click_nb      cost       cpo  click_pos  attribution  \\\n",
       "15527976   3475645         1  0.000033  0.006014          0            0   \n",
       "16435655  31337166         1  0.000099  0.004000          0            0   \n",
       "16435633  16583215         2  0.000172  0.134675          1            0   \n",
       "11532277   2028844        11  0.000316  0.051333          6            0   \n",
       "790005    24127524        28  0.008586  0.055916          9            0   \n",
       "...            ...       ...       ...       ...        ...          ...   \n",
       "16457642  10520904        -1  0.000091  0.302274         -1            0   \n",
       "16465527  22074857        -1  0.000181  0.302274         -1            0   \n",
       "16466318  11127190        -1  0.001010  0.302274         -1            0   \n",
       "16467695  24936208        -1  0.001029  0.302274         -1            0   \n",
       "16465848   3595220        -1  0.001920  0.302274         -1            0   \n",
       "\n",
       "          conversion  click  cat1_num  cat2_num  ...  cat6_num  cat7_num  \\\n",
       "15527976           1      1       5.0       4.0  ...       5.0       1.0   \n",
       "16435655           1      1       5.0       5.0  ...       5.0       3.0   \n",
       "16435633           1      1       5.0       5.0  ...       5.0       4.0   \n",
       "11532277           1      1       5.0       5.0  ...       5.0       5.0   \n",
       "790005             1      1       5.0       5.0  ...       5.0       5.0   \n",
       "...              ...    ...       ...       ...  ...       ...       ...   \n",
       "16457642           0      1       5.0       5.0  ...       5.0       5.0   \n",
       "16465527           0      1       5.0       5.0  ...       5.0       5.0   \n",
       "16466318           0      1       5.0       5.0  ...       5.0       5.0   \n",
       "16467695           0      1       5.0       5.0  ...       5.0       5.0   \n",
       "16465848           0      1       5.0       5.0  ...       5.0       5.0   \n",
       "\n",
       "          cat8_num  cat9_num  day  hour  last_click  first_click    delta  \\\n",
       "15527976       5.0       5.0   29   700           0            0   273174   \n",
       "16435655       5.0       5.0   30   740           0            0   227548   \n",
       "16435633       5.0       5.0   30   740           0            0   162032   \n",
       "11532277       5.0       5.0   21   513           0            0  1156233   \n",
       "790005         5.0       5.0    1    36           0            0   275714   \n",
       "...            ...       ...  ...   ...         ...          ...      ...   \n",
       "16457642       5.0       5.0   30   741           0            0       -1   \n",
       "16465527       5.0       5.0   30   741           0            0       -1   \n",
       "16466318       5.0       5.0   30   741           0            0       -1   \n",
       "16467695       5.0       5.0   30   741           0            0       -1   \n",
       "16465848       5.0       5.0   30   741           0            0       -1   \n",
       "\n",
       "            pred_1  \n",
       "15527976  1.000000  \n",
       "16435655  1.000000  \n",
       "16435633  1.000000  \n",
       "11532277  1.000000  \n",
       "790005    1.000000  \n",
       "...            ...  \n",
       "16457642  0.000136  \n",
       "16465527  0.000136  \n",
       "16466318  0.000136  \n",
       "16467695  0.000136  \n",
       "16465848  0.000136  \n",
       "\n",
       "[16468027 rows x 23 columns]"
      ]
     },
     "execution_count": 13,
     "metadata": {},
     "output_type": "execute_result"
    }
   ],
   "source": [
    "df.sort_values(by='pred_1',ascending=False)"
   ]
  },
  {
   "cell_type": "markdown",
   "metadata": {},
   "source": [
    "### Retrieving the top 10% of the rows"
   ]
  },
  {
   "cell_type": "code",
   "execution_count": 24,
   "metadata": {},
   "outputs": [],
   "source": [
    "df_rank = df.sort_values(by='pred_1',ascending=False).head(int(len(df)/10))"
   ]
  },
  {
   "cell_type": "markdown",
   "metadata": {},
   "source": [
    "### Calculation of metrics: CPO per customer where there is conversion and no-conversion"
   ]
  },
  {
   "cell_type": "code",
   "execution_count": 26,
   "metadata": {},
   "outputs": [],
   "source": [
    "df_X = df_rank.groupby(['conversion','uid']).agg({'cpo': ['mean'],'uid':['count']}).reset_index()\n"
   ]
  },
  {
   "cell_type": "code",
   "execution_count": 27,
   "metadata": {},
   "outputs": [
    {
     "name": "stdout",
     "output_type": "stream",
     "text": [
      "        conversion_      uid_  cpo_mean  uid_count\n",
      "0                 0        53  0.242560          2\n",
      "1                 0       167  0.075868          1\n",
      "2                 0       313  0.078042          1\n",
      "3                 0       435  0.010242          1\n",
      "4                 0       436  0.320965          2\n",
      "...             ...       ...       ...        ...\n",
      "951262            1  32458202  0.102344          5\n",
      "951263            1  32458575  0.165650          1\n",
      "951264            1  32458592  0.149125          2\n",
      "951265            1  32458740  0.317035          1\n",
      "951266            1  32458754  0.004000          1\n",
      "\n",
      "[951267 rows x 4 columns]\n"
     ]
    }
   ],
   "source": [
    "df_X.columns = ['_'.join(col) for col in df_X.columns.values]\n",
    "print(df_X)"
   ]
  },
  {
   "cell_type": "markdown",
   "metadata": {},
   "source": [
    "### Plotting the CPO vs # of Customer for converted impressions "
   ]
  },
  {
   "cell_type": "code",
   "execution_count": 42,
   "metadata": {},
   "outputs": [
    {
     "data": {
      "text/plain": [
       "<matplotlib.axes._subplots.AxesSubplot at 0x7fe43e3ae280>"
      ]
     },
     "execution_count": 42,
     "metadata": {},
     "output_type": "execute_result"
    },
    {
     "data": {
      "image/png": "[encoded data removed]",
      "text/plain": [
       "<Figure size 432x288 with 1 Axes>"
      ]
     },
     "metadata": {
      "needs_background": "light"
     },
     "output_type": "display_data"
    }
   ],
   "source": [
    "sns.lineplot(x='cpo_mean', y=\"uid_count\",ci=50,\n",
    "            data=df_X[df_X.conversion_==1])"
   ]
  },
  {
   "cell_type": "markdown",
   "metadata": {},
   "source": [
    "### Plotting the CPO vs # of Customer for non converted impressions "
   ]
  },
  {
   "cell_type": "code",
   "execution_count": 43,
   "metadata": {
    "scrolled": false
   },
   "outputs": [
    {
     "data": {
      "text/plain": [
       "<matplotlib.axes._subplots.AxesSubplot at 0x7fe41e8578b0>"
      ]
     },
     "execution_count": 43,
     "metadata": {},
     "output_type": "execute_result"
    },
    {
     "data": {
      "image/png": "[encoded data removed]",
      "text/plain": [
       "<Figure size 432x288 with 1 Axes>"
      ]
     },
     "metadata": {
      "needs_background": "light"
     },
     "output_type": "display_data"
    }
   ],
   "source": [
    "sns.lineplot(x='cpo_mean', y=\"uid_count\",ci=50,\n",
    "        data=df_X[df_X.conversion_==0])"
   ]
  },
  {
   "cell_type": "markdown",
   "metadata": {},
   "source": [
    "### Final Takeaways\n",
    "\n",
    "From both the plots we see that the Conversion plot dominates the non-converted plots when the CPO is in between 0.05 - 0.1 USD per order. At these rates there exists a good probability of conversion that makes this price range as the optimal price range that needs to be targetted to ensure quality conversion of impressions. \n"
   ]
  },
  {
   "cell_type": "code",
   "execution_count": null,
   "metadata": {},
   "outputs": [],
   "source": []
  }
 ],
 "metadata": {
  "kernelspec": {
   "display_name": "Python 3",
   "language": "python",
   "name": "python3"
  },
  "language_info": {
   "codemirror_mode": {
    "name": "ipython",
    "version": 3
   },
   "file_extension": ".py",
   "mimetype": "text/x-python",
   "name": "python",
   "nbconvert_exporter": "python",
   "pygments_lexer": "ipython3",
   "version": "3.8.3"
  }
 },
 "nbformat": 4,
 "nbformat_minor": 4
}
