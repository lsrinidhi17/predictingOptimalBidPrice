{
 "cells": [
  {
   "cell_type": "markdown",
   "metadata": {},
   "source": [
    "### OBJECTIVE\n",
    "A basic machine learning model that uses the associated criteo dataset and predicts the optimal **bid price** for the next period based on the included features.\n",
    "\n",
    "### Source\n",
    "https://ailab.criteo.com/criteo-attribution-modeling-bidding-dataset/\n",
    "\n",
    "#### Summary:\n",
    "* Analysed 16000000+ rows of marketing data\n",
    "* Pre-preprocessed rows and feature engineered columns\n",
    "* Performed logistic regression to predict optimal bid price\n",
    "\n",
    "#### Author:\n",
    "* Srinidhi Lakshminarayanan (Mar 2021)"
   ]
  },
  {
   "cell_type": "code",
   "execution_count": 1,
   "metadata": {},
   "outputs": [],
   "source": [
    "#Importing necessary libraries\n",
    "import numpy as np\n",
    "import pandas as pd\n",
    "import matplotlib.pyplot as plt\n",
    "import seaborn as sns\n",
    "import re\n",
    "%matplotlib inline\n",
    "import warnings\n",
    "warnings.filterwarnings(\"ignore\")\n",
    "\n",
    "# Machine learning packages\n",
    "import statsmodels.api as sm\n",
    "from statsmodels.stats.outliers_influence import variance_inflation_factor\n",
    "from sklearn.model_selection import train_test_split\n",
    "from sklearn.metrics import mean_squared_error, r2_score\n",
    "from sklearn.preprocessing import scale \n",
    "from sklearn.linear_model import Ridge, RidgeCV, Lasso, LassoCV,LinearRegression\n",
    "\n",
    "from sklearn.preprocessing import StandardScaler\n",
    "from sklearn.preprocessing import MinMaxScaler\n",
    "from sklearn.linear_model import Lasso\n",
    "from sklearn.linear_model import Ridge\n",
    "from sklearn.metrics import mean_squared_error\n",
    "from sklearn.model_selection import train_test_split\n",
    "from sklearn.linear_model import LogisticRegression\n",
    "from sklearn.metrics import accuracy_score\n",
    "from sklearn.metrics import confusion_matrix\n",
    "from sklearn.metrics import classification_report"
   ]
  },
  {
   "cell_type": "code",
   "execution_count": 2,
   "metadata": {},
   "outputs": [],
   "source": [
    "# Downloaded tsv file from aws-s3 source to local\n",
    "filepath = '/data.tsv'"
   ]
  },
  {
   "cell_type": "markdown",
   "metadata": {},
   "source": [
    "## LOOK INTO DATA"
   ]
  },
  {
   "cell_type": "code",
   "execution_count": 3,
   "metadata": {},
   "outputs": [],
   "source": [
    "# Reading tsv file into a dataframe\n",
    "df = pd.read_csv(filepath,sep='\\t')"
   ]
  },
  {
   "cell_type": "code",
   "execution_count": 4,
   "metadata": {
    "scrolled": true
   },
   "outputs": [
    {
     "data": {
      "text/html": [
       "<div>\n",
       "<style scoped>\n",
       "    .dataframe tbody tr th:only-of-type {\n",
       "        vertical-align: middle;\n",
       "    }\n",
       "\n",
       "    .dataframe tbody tr th {\n",
       "        vertical-align: top;\n",
       "    }\n",
       "\n",
       "    .dataframe thead th {\n",
       "        text-align: right;\n",
       "    }\n",
       "</style>\n",
       "<table border=\"1\" class=\"dataframe\">\n",
       "  <thead>\n",
       "    <tr style=\"text-align: right;\">\n",
       "      <th></th>\n",
       "      <th>timestamp</th>\n",
       "      <th>uid</th>\n",
       "      <th>campaign</th>\n",
       "      <th>conversion</th>\n",
       "      <th>conversion_timestamp</th>\n",
       "      <th>conversion_id</th>\n",
       "      <th>attribution</th>\n",
       "      <th>click</th>\n",
       "      <th>click_pos</th>\n",
       "      <th>click_nb</th>\n",
       "      <th>...</th>\n",
       "      <th>time_since_last_click</th>\n",
       "      <th>cat1</th>\n",
       "      <th>cat2</th>\n",
       "      <th>cat3</th>\n",
       "      <th>cat4</th>\n",
       "      <th>cat5</th>\n",
       "      <th>cat6</th>\n",
       "      <th>cat7</th>\n",
       "      <th>cat8</th>\n",
       "      <th>cat9</th>\n",
       "    </tr>\n",
       "  </thead>\n",
       "  <tbody>\n",
       "    <tr>\n",
       "      <th>0</th>\n",
       "      <td>0</td>\n",
       "      <td>20073966</td>\n",
       "      <td>22589171</td>\n",
       "      <td>0</td>\n",
       "      <td>-1</td>\n",
       "      <td>-1</td>\n",
       "      <td>0</td>\n",
       "      <td>0</td>\n",
       "      <td>-1</td>\n",
       "      <td>-1</td>\n",
       "      <td>...</td>\n",
       "      <td>-1</td>\n",
       "      <td>5824233</td>\n",
       "      <td>9312274</td>\n",
       "      <td>3490278</td>\n",
       "      <td>29196072</td>\n",
       "      <td>11409686</td>\n",
       "      <td>1973606</td>\n",
       "      <td>25162884</td>\n",
       "      <td>29196072</td>\n",
       "      <td>29196072</td>\n",
       "    </tr>\n",
       "    <tr>\n",
       "      <th>1</th>\n",
       "      <td>2</td>\n",
       "      <td>24607497</td>\n",
       "      <td>884761</td>\n",
       "      <td>0</td>\n",
       "      <td>-1</td>\n",
       "      <td>-1</td>\n",
       "      <td>0</td>\n",
       "      <td>0</td>\n",
       "      <td>-1</td>\n",
       "      <td>-1</td>\n",
       "      <td>...</td>\n",
       "      <td>423858</td>\n",
       "      <td>30763035</td>\n",
       "      <td>9312274</td>\n",
       "      <td>14584482</td>\n",
       "      <td>29196072</td>\n",
       "      <td>11409686</td>\n",
       "      <td>1973606</td>\n",
       "      <td>22644417</td>\n",
       "      <td>9312274</td>\n",
       "      <td>21091111</td>\n",
       "    </tr>\n",
       "    <tr>\n",
       "      <th>2</th>\n",
       "      <td>2</td>\n",
       "      <td>28474333</td>\n",
       "      <td>18975823</td>\n",
       "      <td>0</td>\n",
       "      <td>-1</td>\n",
       "      <td>-1</td>\n",
       "      <td>0</td>\n",
       "      <td>0</td>\n",
       "      <td>-1</td>\n",
       "      <td>-1</td>\n",
       "      <td>...</td>\n",
       "      <td>8879</td>\n",
       "      <td>138937</td>\n",
       "      <td>9312274</td>\n",
       "      <td>10769841</td>\n",
       "      <td>29196072</td>\n",
       "      <td>5824237</td>\n",
       "      <td>138937</td>\n",
       "      <td>1795451</td>\n",
       "      <td>29196072</td>\n",
       "      <td>15351056</td>\n",
       "    </tr>\n",
       "    <tr>\n",
       "      <th>3</th>\n",
       "      <td>3</td>\n",
       "      <td>7306395</td>\n",
       "      <td>29427842</td>\n",
       "      <td>1</td>\n",
       "      <td>1449193</td>\n",
       "      <td>3063962</td>\n",
       "      <td>0</td>\n",
       "      <td>1</td>\n",
       "      <td>0</td>\n",
       "      <td>7</td>\n",
       "      <td>...</td>\n",
       "      <td>-1</td>\n",
       "      <td>28928366</td>\n",
       "      <td>26597095</td>\n",
       "      <td>12435261</td>\n",
       "      <td>23549932</td>\n",
       "      <td>5824237</td>\n",
       "      <td>1973606</td>\n",
       "      <td>9180723</td>\n",
       "      <td>29841067</td>\n",
       "      <td>29196072</td>\n",
       "    </tr>\n",
       "    <tr>\n",
       "      <th>4</th>\n",
       "      <td>3</td>\n",
       "      <td>25357769</td>\n",
       "      <td>13365547</td>\n",
       "      <td>0</td>\n",
       "      <td>-1</td>\n",
       "      <td>-1</td>\n",
       "      <td>0</td>\n",
       "      <td>0</td>\n",
       "      <td>-1</td>\n",
       "      <td>-1</td>\n",
       "      <td>...</td>\n",
       "      <td>-1</td>\n",
       "      <td>138937</td>\n",
       "      <td>26597094</td>\n",
       "      <td>31616034</td>\n",
       "      <td>29196072</td>\n",
       "      <td>11409684</td>\n",
       "      <td>26597096</td>\n",
       "      <td>4480345</td>\n",
       "      <td>29196072</td>\n",
       "      <td>29196072</td>\n",
       "    </tr>\n",
       "  </tbody>\n",
       "</table>\n",
       "<p>5 rows × 22 columns</p>\n",
       "</div>"
      ],
      "text/plain": [
       "   timestamp       uid  campaign  conversion  conversion_timestamp  \\\n",
       "0          0  20073966  22589171           0                    -1   \n",
       "1          2  24607497    884761           0                    -1   \n",
       "2          2  28474333  18975823           0                    -1   \n",
       "3          3   7306395  29427842           1               1449193   \n",
       "4          3  25357769  13365547           0                    -1   \n",
       "\n",
       "   conversion_id  attribution  click  click_pos  click_nb  ...  \\\n",
       "0             -1            0      0         -1        -1  ...   \n",
       "1             -1            0      0         -1        -1  ...   \n",
       "2             -1            0      0         -1        -1  ...   \n",
       "3        3063962            0      1          0         7  ...   \n",
       "4             -1            0      0         -1        -1  ...   \n",
       "\n",
       "   time_since_last_click      cat1      cat2      cat3      cat4      cat5  \\\n",
       "0                     -1   5824233   9312274   3490278  29196072  11409686   \n",
       "1                 423858  30763035   9312274  14584482  29196072  11409686   \n",
       "2                   8879    138937   9312274  10769841  29196072   5824237   \n",
       "3                     -1  28928366  26597095  12435261  23549932   5824237   \n",
       "4                     -1    138937  26597094  31616034  29196072  11409684   \n",
       "\n",
       "       cat6      cat7      cat8      cat9  \n",
       "0   1973606  25162884  29196072  29196072  \n",
       "1   1973606  22644417   9312274  21091111  \n",
       "2    138937   1795451  29196072  15351056  \n",
       "3   1973606   9180723  29841067  29196072  \n",
       "4  26597096   4480345  29196072  29196072  \n",
       "\n",
       "[5 rows x 22 columns]"
      ]
     },
     "execution_count": 4,
     "metadata": {},
     "output_type": "execute_result"
    }
   ],
   "source": [
    "# Exploring how the data looks\n",
    "df.head()"
   ]
  },
  {
   "cell_type": "code",
   "execution_count": 5,
   "metadata": {},
   "outputs": [
    {
     "name": "stdout",
     "output_type": "stream",
     "text": [
      "This dataframe has 16468027 rows and 22 columns.\n"
     ]
    }
   ],
   "source": [
    "# dataframe dimensions\n",
    "print(f\"This dataframe has {df.shape[0]} rows and {df.shape[1]} columns.\")"
   ]
  },
  {
   "cell_type": "code",
   "execution_count": 6,
   "metadata": {},
   "outputs": [
    {
     "name": "stdout",
     "output_type": "stream",
     "text": [
      "<class 'pandas.core.frame.DataFrame'>\n",
      "RangeIndex: 16468027 entries, 0 to 16468026\n",
      "Data columns (total 22 columns):\n",
      " #   Column                 Dtype  \n",
      "---  ------                 -----  \n",
      " 0   timestamp              int64  \n",
      " 1   uid                    int64  \n",
      " 2   campaign               int64  \n",
      " 3   conversion             int64  \n",
      " 4   conversion_timestamp   int64  \n",
      " 5   conversion_id          int64  \n",
      " 6   attribution            int64  \n",
      " 7   click                  int64  \n",
      " 8   click_pos              int64  \n",
      " 9   click_nb               int64  \n",
      " 10  cost                   float64\n",
      " 11  cpo                    float64\n",
      " 12  time_since_last_click  int64  \n",
      " 13  cat1                   int64  \n",
      " 14  cat2                   int64  \n",
      " 15  cat3                   int64  \n",
      " 16  cat4                   int64  \n",
      " 17  cat5                   int64  \n",
      " 18  cat6                   int64  \n",
      " 19  cat7                   int64  \n",
      " 20  cat8                   int64  \n",
      " 21  cat9                   int64  \n",
      "dtypes: float64(2), int64(20)\n",
      "memory usage: 2.7 GB\n"
     ]
    }
   ],
   "source": [
    "# columns and data types\n",
    "df.info()"
   ]
  },
  {
   "cell_type": "code",
   "execution_count": 7,
   "metadata": {},
   "outputs": [
    {
     "data": {
      "text/html": [
       "<div>\n",
       "<style scoped>\n",
       "    .dataframe tbody tr th:only-of-type {\n",
       "        vertical-align: middle;\n",
       "    }\n",
       "\n",
       "    .dataframe tbody tr th {\n",
       "        vertical-align: top;\n",
       "    }\n",
       "\n",
       "    .dataframe thead th {\n",
       "        text-align: right;\n",
       "    }\n",
       "</style>\n",
       "<table border=\"1\" class=\"dataframe\">\n",
       "  <thead>\n",
       "    <tr style=\"text-align: right;\">\n",
       "      <th></th>\n",
       "      <th>Column</th>\n",
       "      <th>Has Missing Values</th>\n",
       "      <th>% Missing Values</th>\n",
       "    </tr>\n",
       "  </thead>\n",
       "  <tbody>\n",
       "    <tr>\n",
       "      <th>0</th>\n",
       "      <td>timestamp</td>\n",
       "      <td>False</td>\n",
       "      <td>0.0</td>\n",
       "    </tr>\n",
       "    <tr>\n",
       "      <th>1</th>\n",
       "      <td>uid</td>\n",
       "      <td>False</td>\n",
       "      <td>0.0</td>\n",
       "    </tr>\n",
       "    <tr>\n",
       "      <th>2</th>\n",
       "      <td>campaign</td>\n",
       "      <td>False</td>\n",
       "      <td>0.0</td>\n",
       "    </tr>\n",
       "    <tr>\n",
       "      <th>3</th>\n",
       "      <td>conversion</td>\n",
       "      <td>False</td>\n",
       "      <td>0.0</td>\n",
       "    </tr>\n",
       "    <tr>\n",
       "      <th>4</th>\n",
       "      <td>conversion_timestamp</td>\n",
       "      <td>False</td>\n",
       "      <td>0.0</td>\n",
       "    </tr>\n",
       "    <tr>\n",
       "      <th>5</th>\n",
       "      <td>conversion_id</td>\n",
       "      <td>False</td>\n",
       "      <td>0.0</td>\n",
       "    </tr>\n",
       "    <tr>\n",
       "      <th>6</th>\n",
       "      <td>attribution</td>\n",
       "      <td>False</td>\n",
       "      <td>0.0</td>\n",
       "    </tr>\n",
       "    <tr>\n",
       "      <th>7</th>\n",
       "      <td>click</td>\n",
       "      <td>False</td>\n",
       "      <td>0.0</td>\n",
       "    </tr>\n",
       "    <tr>\n",
       "      <th>8</th>\n",
       "      <td>click_pos</td>\n",
       "      <td>False</td>\n",
       "      <td>0.0</td>\n",
       "    </tr>\n",
       "    <tr>\n",
       "      <th>9</th>\n",
       "      <td>click_nb</td>\n",
       "      <td>False</td>\n",
       "      <td>0.0</td>\n",
       "    </tr>\n",
       "    <tr>\n",
       "      <th>10</th>\n",
       "      <td>cost</td>\n",
       "      <td>False</td>\n",
       "      <td>0.0</td>\n",
       "    </tr>\n",
       "    <tr>\n",
       "      <th>11</th>\n",
       "      <td>cpo</td>\n",
       "      <td>False</td>\n",
       "      <td>0.0</td>\n",
       "    </tr>\n",
       "    <tr>\n",
       "      <th>12</th>\n",
       "      <td>time_since_last_click</td>\n",
       "      <td>False</td>\n",
       "      <td>0.0</td>\n",
       "    </tr>\n",
       "    <tr>\n",
       "      <th>13</th>\n",
       "      <td>cat1</td>\n",
       "      <td>False</td>\n",
       "      <td>0.0</td>\n",
       "    </tr>\n",
       "    <tr>\n",
       "      <th>14</th>\n",
       "      <td>cat2</td>\n",
       "      <td>False</td>\n",
       "      <td>0.0</td>\n",
       "    </tr>\n",
       "    <tr>\n",
       "      <th>15</th>\n",
       "      <td>cat3</td>\n",
       "      <td>False</td>\n",
       "      <td>0.0</td>\n",
       "    </tr>\n",
       "    <tr>\n",
       "      <th>16</th>\n",
       "      <td>cat4</td>\n",
       "      <td>False</td>\n",
       "      <td>0.0</td>\n",
       "    </tr>\n",
       "    <tr>\n",
       "      <th>17</th>\n",
       "      <td>cat5</td>\n",
       "      <td>False</td>\n",
       "      <td>0.0</td>\n",
       "    </tr>\n",
       "    <tr>\n",
       "      <th>18</th>\n",
       "      <td>cat6</td>\n",
       "      <td>False</td>\n",
       "      <td>0.0</td>\n",
       "    </tr>\n",
       "    <tr>\n",
       "      <th>19</th>\n",
       "      <td>cat7</td>\n",
       "      <td>False</td>\n",
       "      <td>0.0</td>\n",
       "    </tr>\n",
       "    <tr>\n",
       "      <th>20</th>\n",
       "      <td>cat8</td>\n",
       "      <td>False</td>\n",
       "      <td>0.0</td>\n",
       "    </tr>\n",
       "    <tr>\n",
       "      <th>21</th>\n",
       "      <td>cat9</td>\n",
       "      <td>False</td>\n",
       "      <td>0.0</td>\n",
       "    </tr>\n",
       "  </tbody>\n",
       "</table>\n",
       "</div>"
      ],
      "text/plain": [
       "                   Column  Has Missing Values  % Missing Values\n",
       "0               timestamp               False               0.0\n",
       "1                     uid               False               0.0\n",
       "2                campaign               False               0.0\n",
       "3              conversion               False               0.0\n",
       "4    conversion_timestamp               False               0.0\n",
       "5           conversion_id               False               0.0\n",
       "6             attribution               False               0.0\n",
       "7                   click               False               0.0\n",
       "8               click_pos               False               0.0\n",
       "9                click_nb               False               0.0\n",
       "10                   cost               False               0.0\n",
       "11                    cpo               False               0.0\n",
       "12  time_since_last_click               False               0.0\n",
       "13                   cat1               False               0.0\n",
       "14                   cat2               False               0.0\n",
       "15                   cat3               False               0.0\n",
       "16                   cat4               False               0.0\n",
       "17                   cat5               False               0.0\n",
       "18                   cat6               False               0.0\n",
       "19                   cat7               False               0.0\n",
       "20                   cat8               False               0.0\n",
       "21                   cat9               False               0.0"
      ]
     },
     "execution_count": 7,
     "metadata": {},
     "output_type": "execute_result"
    }
   ],
   "source": [
    "# missing values summary\n",
    "pd.DataFrame(zip(df.columns,\n",
    "                 df.isna().any(),\n",
    "                 df.isna().sum()\\\n",
    "                     / df.shape[0]\\\n",
    "                     * 100),\n",
    "            columns=['Column', 'Has Missing Values', '% Missing Values'])\\\n",
    "    "
   ]
  },
  {
   "cell_type": "markdown",
   "metadata": {},
   "source": [
    "## PERFORMING EXPLORATORY DATA ANALYSIS"
   ]
  },
  {
   "cell_type": "markdown",
   "metadata": {},
   "source": [
    "### Subsetting the data"
   ]
  },
  {
   "cell_type": "code",
   "execution_count": 8,
   "metadata": {},
   "outputs": [
    {
     "name": "stdout",
     "output_type": "stream",
     "text": [
      "This dataframe has 16468027 rows and 17 columns.\n"
     ]
    }
   ],
   "source": [
    "# keeping on the required columns for analysis\n",
    "# dropping Id and Time\n",
    "df_eda = df.drop(columns=['campaign','conversion_id','conversion_timestamp','timestamp','time_since_last_click'])\n",
    "\n",
    "# new dataframe dimensions\n",
    "print(f\"This dataframe has {df_eda.shape[0]} rows and {df_eda.shape[1]} columns.\")"
   ]
  },
  {
   "cell_type": "markdown",
   "metadata": {},
   "source": [
    "### Converting variables from int to bool/categorical as applicable"
   ]
  },
  {
   "cell_type": "code",
   "execution_count": 9,
   "metadata": {},
   "outputs": [],
   "source": [
    "df_eda['conversion'] = df_eda['conversion'].astype('bool')\n",
    "df_eda['attribution'] = df_eda['attribution'].astype('bool')\n",
    "df_eda['click'] = df_eda['click'].astype('bool')\n",
    "df_eda['cat1'] = df_eda['cat1'].astype(str)\n",
    "df_eda['cat2'] = df_eda['cat2'].astype(str)\n",
    "df_eda['cat3'] = df_eda['cat3'].astype(str)\n",
    "df_eda['cat4'] = df_eda['cat4'].astype(str)\n",
    "df_eda['cat5'] = df_eda['cat5'].astype(str)\n",
    "df_eda['cat6'] = df_eda['cat6'].astype(str)\n",
    "df_eda['cat7'] = df_eda['cat7'].astype(str)\n",
    "df_eda['cat8'] = df_eda['cat8'].astype(str)\n",
    "df_eda['cat9'] = df_eda['cat9'].astype(str)"
   ]
  },
  {
   "cell_type": "code",
   "execution_count": 10,
   "metadata": {},
   "outputs": [
    {
     "name": "stdout",
     "output_type": "stream",
     "text": [
      "<class 'pandas.core.frame.DataFrame'>\n",
      "RangeIndex: 16468027 entries, 0 to 16468026\n",
      "Data columns (total 17 columns):\n",
      " #   Column       Dtype  \n",
      "---  ------       -----  \n",
      " 0   uid          int64  \n",
      " 1   conversion   bool   \n",
      " 2   attribution  bool   \n",
      " 3   click        bool   \n",
      " 4   click_pos    int64  \n",
      " 5   click_nb     int64  \n",
      " 6   cost         float64\n",
      " 7   cpo          float64\n",
      " 8   cat1         object \n",
      " 9   cat2         object \n",
      " 10  cat3         object \n",
      " 11  cat4         object \n",
      " 12  cat5         object \n",
      " 13  cat6         object \n",
      " 14  cat7         object \n",
      " 15  cat8         object \n",
      " 16  cat9         object \n",
      "dtypes: bool(3), float64(2), int64(3), object(9)\n",
      "memory usage: 1.8+ GB\n"
     ]
    }
   ],
   "source": [
    "df_eda.info()"
   ]
  },
  {
   "cell_type": "markdown",
   "metadata": {},
   "source": [
    "### Basic summary statistics (or) Univariate analysis"
   ]
  },
  {
   "cell_type": "code",
   "execution_count": 11,
   "metadata": {},
   "outputs": [
    {
     "data": {
      "text/html": [
       "<div>\n",
       "<style scoped>\n",
       "    .dataframe tbody tr th:only-of-type {\n",
       "        vertical-align: middle;\n",
       "    }\n",
       "\n",
       "    .dataframe tbody tr th {\n",
       "        vertical-align: top;\n",
       "    }\n",
       "\n",
       "    .dataframe thead th {\n",
       "        text-align: right;\n",
       "    }\n",
       "</style>\n",
       "<table border=\"1\" class=\"dataframe\">\n",
       "  <thead>\n",
       "    <tr style=\"text-align: right;\">\n",
       "      <th></th>\n",
       "      <th>count</th>\n",
       "      <th>mean</th>\n",
       "      <th>std</th>\n",
       "      <th>min</th>\n",
       "      <th>25%</th>\n",
       "      <th>50%</th>\n",
       "      <th>75%</th>\n",
       "      <th>max</th>\n",
       "    </tr>\n",
       "  </thead>\n",
       "  <tbody>\n",
       "    <tr>\n",
       "      <th>click_nb</th>\n",
       "      <td>16468027.0</td>\n",
       "      <td>-0.662602</td>\n",
       "      <td>2.696254</td>\n",
       "      <td>-1.00000</td>\n",
       "      <td>-1.000000</td>\n",
       "      <td>-1.000000</td>\n",
       "      <td>-1.000000</td>\n",
       "      <td>174.000000</td>\n",
       "    </tr>\n",
       "    <tr>\n",
       "      <th>cost</th>\n",
       "      <td>16468027.0</td>\n",
       "      <td>0.000293</td>\n",
       "      <td>0.000869</td>\n",
       "      <td>0.00001</td>\n",
       "      <td>0.000022</td>\n",
       "      <td>0.000076</td>\n",
       "      <td>0.000235</td>\n",
       "      <td>0.058345</td>\n",
       "    </tr>\n",
       "    <tr>\n",
       "      <th>cpo</th>\n",
       "      <td>16468027.0</td>\n",
       "      <td>0.196429</td>\n",
       "      <td>0.118638</td>\n",
       "      <td>0.00400</td>\n",
       "      <td>0.106539</td>\n",
       "      <td>0.191904</td>\n",
       "      <td>0.273251</td>\n",
       "      <td>1.016311</td>\n",
       "    </tr>\n",
       "    <tr>\n",
       "      <th>click_pos</th>\n",
       "      <td>16468027.0</td>\n",
       "      <td>-0.831266</td>\n",
       "      <td>1.532221</td>\n",
       "      <td>-1.00000</td>\n",
       "      <td>-1.000000</td>\n",
       "      <td>-1.000000</td>\n",
       "      <td>-1.000000</td>\n",
       "      <td>173.000000</td>\n",
       "    </tr>\n",
       "  </tbody>\n",
       "</table>\n",
       "</div>"
      ],
      "text/plain": [
       "                count      mean       std      min       25%       50%  \\\n",
       "click_nb   16468027.0 -0.662602  2.696254 -1.00000 -1.000000 -1.000000   \n",
       "cost       16468027.0  0.000293  0.000869  0.00001  0.000022  0.000076   \n",
       "cpo        16468027.0  0.196429  0.118638  0.00400  0.106539  0.191904   \n",
       "click_pos  16468027.0 -0.831266  1.532221 -1.00000 -1.000000 -1.000000   \n",
       "\n",
       "                75%         max  \n",
       "click_nb  -1.000000  174.000000  \n",
       "cost       0.000235    0.058345  \n",
       "cpo        0.273251    1.016311  \n",
       "click_pos -1.000000  173.000000  "
      ]
     },
     "execution_count": 11,
     "metadata": {},
     "output_type": "execute_result"
    }
   ],
   "source": [
    "# summary of review scores\n",
    "df_eda[['click_nb','cost','cpo','click_pos']].describe().T"
   ]
  },
  {
   "cell_type": "code",
   "execution_count": 12,
   "metadata": {},
   "outputs": [
    {
     "data": {
      "image/png": "[encoded data removed]",
      "text/plain": [
       "<Figure size 1584x360 with 3 Axes>"
      ]
     },
     "metadata": {
      "needs_background": "light"
     },
     "output_type": "display_data"
    }
   ],
   "source": [
    "# plotting the values\n",
    "plt.subplots(1,3, figsize=(22,5))\n",
    "\n",
    "\n",
    "plt.subplot(1,3,1)\n",
    "sns.distplot(df_eda['click_nb'], kde_kws={\"color\": \"k\", \"lw\": 2, \"label\": \"KDE\"})\n",
    "plt.xticks(fontsize=12, fontweight='bold')\n",
    "plt.xlabel(\"Value\", fontsize=12, fontweight='bold')\n",
    "plt.yticks(fontsize=12, fontweight='bold')\n",
    "plt.ylabel(\"Density\", fontsize=12, fontweight='bold')\n",
    "plt.title(\"Density plot - click_nb\", fontsize=15, fontweight='bold')\n",
    "\n",
    "plt.subplot(1,3,2)\n",
    "sns.distplot(df_eda['cost'], kde_kws={\"color\": \"k\", \"lw\": 2, \"label\": \"KDE\"})\n",
    "plt.xticks(fontsize=12, fontweight='bold')\n",
    "plt.xlabel(\"Value\", fontsize=12, fontweight='bold')\n",
    "plt.yticks(fontsize=12, fontweight='bold')\n",
    "plt.ylabel(\"Density\", fontsize=12, fontweight='bold')\n",
    "plt.title(\"Density plot - cost\", fontsize=15, fontweight='bold')\n",
    "\n",
    "plt.subplot(1,3,3)\n",
    "sns.distplot(df_eda['cpo'], kde_kws={\"color\": \"k\", \"lw\": 2, \"label\": \"KDE\"})\n",
    "plt.xticks(fontsize=12, fontweight='bold')\n",
    "plt.xlabel(\"Value\", fontsize=12, fontweight='bold')\n",
    "plt.yticks(fontsize=12, fontweight='bold')\n",
    "plt.ylabel(\"Density\", fontsize=12, fontweight='bold')\n",
    "plt.title(\"Density plot - cpo\", fontsize=15, fontweight='bold')\n",
    "\n",
    "plt.show()"
   ]
  },
  {
   "cell_type": "markdown",
   "metadata": {},
   "source": [
    "### Bivariate and Multivariate analysis\n"
   ]
  },
  {
   "cell_type": "code",
   "execution_count": 13,
   "metadata": {},
   "outputs": [
    {
     "data": {
      "image/png": "[encoded data removed]",
      "text/plain": [
       "<Figure size 864x576 with 2 Axes>"
      ]
     },
     "metadata": {
      "needs_background": "light"
     },
     "output_type": "display_data"
    }
   ],
   "source": [
    "# correlation plot of numerical values\n",
    "plt.figure(figsize=(12,8))\n",
    "corr_var = df_eda[['click_nb','cost','cpo','click_pos']].corr()\n",
    "sns.heatmap(corr_var, annot=True, square=True, fmt='.2f', cmap='RdYlGn', vmin=-1, mask=np.triu(corr_var, 1))\n",
    "plt.xticks(fontsize=12, fontweight='bold')\n",
    "plt.yticks(fontsize=12, fontweight='bold')\n",
    "plt.title(\"Heatmap - Correlation among numerical variables\", fontsize=20, fontweight='bold')\n",
    "plt.show()"
   ]
  },
  {
   "cell_type": "markdown",
   "metadata": {},
   "source": [
    "**Observations:**\n",
    "\n",
    "* There is no or negligeble correlation among metrics.\n",
    "* There are no interesting observations."
   ]
  },
  {
   "cell_type": "markdown",
   "metadata": {},
   "source": [
    "### Segregating categorical columns"
   ]
  },
  {
   "cell_type": "code",
   "execution_count": 14,
   "metadata": {},
   "outputs": [],
   "source": [
    "catcolumns =['click_pos','attribution','conversion','click','cat1','cat2','cat3','cat4','cat5','cat6','cat7','cat8','cat9']\n",
    "df_numerical = df_eda.loc[:, ~df_eda.columns.isin(catcolumns)]\n",
    "df_categorical = df_eda[catcolumns]"
   ]
  },
  {
   "cell_type": "code",
   "execution_count": 15,
   "metadata": {},
   "outputs": [
    {
     "data": {
      "text/html": [
       "<div>\n",
       "<style scoped>\n",
       "    .dataframe tbody tr th:only-of-type {\n",
       "        vertical-align: middle;\n",
       "    }\n",
       "\n",
       "    .dataframe tbody tr th {\n",
       "        vertical-align: top;\n",
       "    }\n",
       "\n",
       "    .dataframe thead th {\n",
       "        text-align: right;\n",
       "    }\n",
       "</style>\n",
       "<table border=\"1\" class=\"dataframe\">\n",
       "  <thead>\n",
       "    <tr style=\"text-align: right;\">\n",
       "      <th></th>\n",
       "      <th>uid</th>\n",
       "      <th>click_nb</th>\n",
       "      <th>cost</th>\n",
       "      <th>cpo</th>\n",
       "    </tr>\n",
       "  </thead>\n",
       "  <tbody>\n",
       "    <tr>\n",
       "      <th>0</th>\n",
       "      <td>20073966</td>\n",
       "      <td>-1</td>\n",
       "      <td>0.000010</td>\n",
       "      <td>0.390794</td>\n",
       "    </tr>\n",
       "    <tr>\n",
       "      <th>1</th>\n",
       "      <td>24607497</td>\n",
       "      <td>-1</td>\n",
       "      <td>0.000010</td>\n",
       "      <td>0.059600</td>\n",
       "    </tr>\n",
       "    <tr>\n",
       "      <th>2</th>\n",
       "      <td>28474333</td>\n",
       "      <td>-1</td>\n",
       "      <td>0.000183</td>\n",
       "      <td>0.149706</td>\n",
       "    </tr>\n",
       "    <tr>\n",
       "      <th>3</th>\n",
       "      <td>7306395</td>\n",
       "      <td>7</td>\n",
       "      <td>0.000094</td>\n",
       "      <td>0.154785</td>\n",
       "    </tr>\n",
       "    <tr>\n",
       "      <th>4</th>\n",
       "      <td>25357769</td>\n",
       "      <td>-1</td>\n",
       "      <td>0.000032</td>\n",
       "      <td>0.037583</td>\n",
       "    </tr>\n",
       "  </tbody>\n",
       "</table>\n",
       "</div>"
      ],
      "text/plain": [
       "        uid  click_nb      cost       cpo\n",
       "0  20073966        -1  0.000010  0.390794\n",
       "1  24607497        -1  0.000010  0.059600\n",
       "2  28474333        -1  0.000183  0.149706\n",
       "3   7306395         7  0.000094  0.154785\n",
       "4  25357769        -1  0.000032  0.037583"
      ]
     },
     "execution_count": 15,
     "metadata": {},
     "output_type": "execute_result"
    }
   ],
   "source": [
    "df_numerical.head()"
   ]
  },
  {
   "cell_type": "code",
   "execution_count": 16,
   "metadata": {},
   "outputs": [
    {
     "data": {
      "text/html": [
       "<div>\n",
       "<style scoped>\n",
       "    .dataframe tbody tr th:only-of-type {\n",
       "        vertical-align: middle;\n",
       "    }\n",
       "\n",
       "    .dataframe tbody tr th {\n",
       "        vertical-align: top;\n",
       "    }\n",
       "\n",
       "    .dataframe thead th {\n",
       "        text-align: right;\n",
       "    }\n",
       "</style>\n",
       "<table border=\"1\" class=\"dataframe\">\n",
       "  <thead>\n",
       "    <tr style=\"text-align: right;\">\n",
       "      <th></th>\n",
       "      <th>click_pos</th>\n",
       "      <th>attribution</th>\n",
       "      <th>conversion</th>\n",
       "      <th>click</th>\n",
       "      <th>cat1</th>\n",
       "      <th>cat2</th>\n",
       "      <th>cat3</th>\n",
       "      <th>cat4</th>\n",
       "      <th>cat5</th>\n",
       "      <th>cat6</th>\n",
       "      <th>cat7</th>\n",
       "      <th>cat8</th>\n",
       "      <th>cat9</th>\n",
       "    </tr>\n",
       "  </thead>\n",
       "  <tbody>\n",
       "    <tr>\n",
       "      <th>0</th>\n",
       "      <td>-1</td>\n",
       "      <td>False</td>\n",
       "      <td>False</td>\n",
       "      <td>False</td>\n",
       "      <td>5824233</td>\n",
       "      <td>9312274</td>\n",
       "      <td>3490278</td>\n",
       "      <td>29196072</td>\n",
       "      <td>11409686</td>\n",
       "      <td>1973606</td>\n",
       "      <td>25162884</td>\n",
       "      <td>29196072</td>\n",
       "      <td>29196072</td>\n",
       "    </tr>\n",
       "    <tr>\n",
       "      <th>1</th>\n",
       "      <td>-1</td>\n",
       "      <td>False</td>\n",
       "      <td>False</td>\n",
       "      <td>False</td>\n",
       "      <td>30763035</td>\n",
       "      <td>9312274</td>\n",
       "      <td>14584482</td>\n",
       "      <td>29196072</td>\n",
       "      <td>11409686</td>\n",
       "      <td>1973606</td>\n",
       "      <td>22644417</td>\n",
       "      <td>9312274</td>\n",
       "      <td>21091111</td>\n",
       "    </tr>\n",
       "    <tr>\n",
       "      <th>2</th>\n",
       "      <td>-1</td>\n",
       "      <td>False</td>\n",
       "      <td>False</td>\n",
       "      <td>False</td>\n",
       "      <td>138937</td>\n",
       "      <td>9312274</td>\n",
       "      <td>10769841</td>\n",
       "      <td>29196072</td>\n",
       "      <td>5824237</td>\n",
       "      <td>138937</td>\n",
       "      <td>1795451</td>\n",
       "      <td>29196072</td>\n",
       "      <td>15351056</td>\n",
       "    </tr>\n",
       "    <tr>\n",
       "      <th>3</th>\n",
       "      <td>0</td>\n",
       "      <td>False</td>\n",
       "      <td>True</td>\n",
       "      <td>True</td>\n",
       "      <td>28928366</td>\n",
       "      <td>26597095</td>\n",
       "      <td>12435261</td>\n",
       "      <td>23549932</td>\n",
       "      <td>5824237</td>\n",
       "      <td>1973606</td>\n",
       "      <td>9180723</td>\n",
       "      <td>29841067</td>\n",
       "      <td>29196072</td>\n",
       "    </tr>\n",
       "    <tr>\n",
       "      <th>4</th>\n",
       "      <td>-1</td>\n",
       "      <td>False</td>\n",
       "      <td>False</td>\n",
       "      <td>False</td>\n",
       "      <td>138937</td>\n",
       "      <td>26597094</td>\n",
       "      <td>31616034</td>\n",
       "      <td>29196072</td>\n",
       "      <td>11409684</td>\n",
       "      <td>26597096</td>\n",
       "      <td>4480345</td>\n",
       "      <td>29196072</td>\n",
       "      <td>29196072</td>\n",
       "    </tr>\n",
       "  </tbody>\n",
       "</table>\n",
       "</div>"
      ],
      "text/plain": [
       "   click_pos  attribution  conversion  click      cat1      cat2      cat3  \\\n",
       "0         -1        False       False  False   5824233   9312274   3490278   \n",
       "1         -1        False       False  False  30763035   9312274  14584482   \n",
       "2         -1        False       False  False    138937   9312274  10769841   \n",
       "3          0        False        True   True  28928366  26597095  12435261   \n",
       "4         -1        False       False  False    138937  26597094  31616034   \n",
       "\n",
       "       cat4      cat5      cat6      cat7      cat8      cat9  \n",
       "0  29196072  11409686   1973606  25162884  29196072  29196072  \n",
       "1  29196072  11409686   1973606  22644417   9312274  21091111  \n",
       "2  29196072   5824237    138937   1795451  29196072  15351056  \n",
       "3  23549932   5824237   1973606   9180723  29841067  29196072  \n",
       "4  29196072  11409684  26597096   4480345  29196072  29196072  "
      ]
     },
     "execution_count": 16,
     "metadata": {},
     "output_type": "execute_result"
    }
   ],
   "source": [
    "df_categorical.head()"
   ]
  },
  {
   "cell_type": "markdown",
   "metadata": {},
   "source": [
    "### Transforming attribution, conversion, click into 0/1 \n",
    "\n"
   ]
  },
  {
   "cell_type": "code",
   "execution_count": 17,
   "metadata": {},
   "outputs": [],
   "source": [
    "df_categorical[\"attribution\"] = df_categorical[\"attribution\"].astype(int)\n",
    "df_categorical[\"conversion\"] = df_categorical[\"conversion\"].astype(int)\n",
    "df_categorical[\"click\"] = df_categorical[\"click\"].astype(int)"
   ]
  },
  {
   "cell_type": "markdown",
   "metadata": {},
   "source": [
    "### Transforming cat1 into nominal using one hot encoding \n"
   ]
  },
  {
   "cell_type": "code",
   "execution_count": 18,
   "metadata": {},
   "outputs": [],
   "source": [
    "df_2=df_categorical['cat1'].value_counts().to_frame().reset_index()\n",
    "df_categorical = pd.merge(df_categorical, df_2, how='left', left_on='cat1', right_on='index')\n",
    "df_categorical.loc[(df_categorical['cat1_y']>=0) & (df_categorical['cat1_y']<=99), 'cat1_num'] = 1\n",
    "df_categorical.loc[(df_categorical['cat1_y']>=100) & (df_categorical['cat1_y']<=999), 'cat1_num'] = 2\n",
    "df_categorical.loc[(df_categorical['cat1_y']>=1000) & (df_categorical['cat1_y']<=9999), 'cat1_num'] = 3\n",
    "df_categorical.loc[(df_categorical['cat1_y']>=10000) & (df_categorical['cat1_y']<=99999), 'cat1_num'] = 4\n",
    "df_categorical.loc[(df_categorical['cat1_y']>=100000), 'cat1_num'] = 5\n",
    "df_categorical.drop(['cat1_y','cat1_x','index'],axis=1, inplace=True)"
   ]
  },
  {
   "cell_type": "markdown",
   "metadata": {},
   "source": [
    "### Transforming cat2 into ordinal \n"
   ]
  },
  {
   "cell_type": "code",
   "execution_count": 19,
   "metadata": {},
   "outputs": [],
   "source": [
    "df_2=df_categorical['cat2'].value_counts().to_frame().reset_index()\n",
    "df_categorical = pd.merge(df_categorical, df_2, how='left', left_on='cat2', right_on='index')\n",
    "df_categorical.loc[(df_categorical['cat2_y']>=0) & (df_categorical['cat2_y']<=99), 'cat2_num'] = 1\n",
    "df_categorical.loc[(df_categorical['cat2_y']>=100) & (df_categorical['cat2_y']<=999), 'cat2_num'] = 2\n",
    "df_categorical.loc[(df_categorical['cat2_y']>=1000) & (df_categorical['cat2_y']<=9999), 'cat2_num'] = 3\n",
    "df_categorical.loc[(df_categorical['cat2_y']>=10000) & (df_categorical['cat2_y']<=99999), 'cat2_num'] = 4\n",
    "df_categorical.loc[(df_categorical['cat2_y']>=100000), 'cat2_num'] = 5\n",
    "df_categorical.drop(['cat2_y','cat2_x','index'],axis=1, inplace=True)"
   ]
  },
  {
   "cell_type": "markdown",
   "metadata": {},
   "source": [
    "### Transforming cat3 into ordinal \n",
    "\n"
   ]
  },
  {
   "cell_type": "code",
   "execution_count": 20,
   "metadata": {},
   "outputs": [],
   "source": [
    "df_2=df_categorical['cat3'].value_counts().to_frame().reset_index()\n",
    "df_categorical = pd.merge(df_categorical, df_2, how='left', left_on='cat3', right_on='index')\n",
    "df_categorical.loc[(df_categorical['cat3_y']>=0) & (df_categorical['cat3_y']<=99), 'cat3_num'] = 1\n",
    "df_categorical.loc[(df_categorical['cat3_y']>=100) & (df_categorical['cat3_y']<=999), 'cat3_num'] = 2\n",
    "df_categorical.loc[(df_categorical['cat3_y']>=1000) & (df_categorical['cat3_y']<=9999), 'cat3_num'] = 3\n",
    "df_categorical.loc[(df_categorical['cat3_y']>=10000) & (df_categorical['cat3_y']<=99999), 'cat3_num'] = 4\n",
    "df_categorical.loc[(df_categorical['cat3_y']>=100000), 'cat3_num'] = 5\n",
    "df_categorical.drop(['cat3_y','cat3_x','index'],axis=1, inplace=True)"
   ]
  },
  {
   "cell_type": "markdown",
   "metadata": {},
   "source": [
    "### Transforming cat4 into ordinal \n",
    "\n"
   ]
  },
  {
   "cell_type": "code",
   "execution_count": 21,
   "metadata": {},
   "outputs": [],
   "source": [
    "df_2=df_categorical['cat4'].value_counts().to_frame().reset_index()\n",
    "df_categorical = pd.merge(df_categorical, df_2, how='left', left_on='cat4', right_on='index')\n",
    "df_categorical.loc[(df_categorical['cat4_y']>=0) & (df_categorical['cat4_y']<=99), 'cat4_num'] = 1\n",
    "df_categorical.loc[(df_categorical['cat4_y']>=100) & (df_categorical['cat4_y']<=999), 'cat4_num'] = 2\n",
    "df_categorical.loc[(df_categorical['cat4_y']>=1000) & (df_categorical['cat4_y']<=9999), 'cat4_num'] = 3\n",
    "df_categorical.loc[(df_categorical['cat4_y']>=10000) & (df_categorical['cat4_y']<=99999), 'cat4_num'] = 4\n",
    "df_categorical.loc[(df_categorical['cat4_y']>=100000), 'cat4_num'] = 5\n",
    "df_categorical.drop(['cat4_y','cat4_x','index'],axis=1, inplace=True)"
   ]
  },
  {
   "cell_type": "markdown",
   "metadata": {},
   "source": [
    "### Transforming cat5 into ordinal"
   ]
  },
  {
   "cell_type": "code",
   "execution_count": 22,
   "metadata": {},
   "outputs": [],
   "source": [
    "df_2=df_categorical['cat5'].value_counts().to_frame().reset_index()\n",
    "df_categorical = pd.merge(df_categorical, df_2, how='left', left_on='cat5', right_on='index')\n",
    "df_categorical.loc[(df_categorical['cat5_y']>=0) & (df_categorical['cat5_y']<=99), 'cat5_num'] = 1\n",
    "df_categorical.loc[(df_categorical['cat5_y']>=100) & (df_categorical['cat5_y']<=999), 'cat5_num'] = 2\n",
    "df_categorical.loc[(df_categorical['cat5_y']>=1000) & (df_categorical['cat5_y']<=9999), 'cat5_num'] = 3\n",
    "df_categorical.loc[(df_categorical['cat5_y']>=10000) & (df_categorical['cat5_y']<=99999), 'cat5_num'] = 4\n",
    "df_categorical.loc[(df_categorical['cat5_y']>=100000), 'cat5_num'] = 5\n",
    "df_categorical.drop(['cat5_y','cat5_x','index'],axis=1, inplace=True)\n"
   ]
  },
  {
   "cell_type": "markdown",
   "metadata": {},
   "source": [
    "### Transforming cat6 into ordinal "
   ]
  },
  {
   "cell_type": "code",
   "execution_count": 23,
   "metadata": {},
   "outputs": [],
   "source": [
    "df_2=df_categorical['cat6'].value_counts().to_frame().reset_index()\n",
    "df_categorical = pd.merge(df_categorical, df_2, how='left', left_on='cat6', right_on='index')\n",
    "df_categorical.loc[(df_categorical['cat6_y']>=0) & (df_categorical['cat6_y']<=99), 'cat6_num'] = 1\n",
    "df_categorical.loc[(df_categorical['cat6_y']>=100) & (df_categorical['cat6_y']<=999), 'cat6_num'] = 2\n",
    "df_categorical.loc[(df_categorical['cat6_y']>=1000) & (df_categorical['cat6_y']<=9999), 'cat6_num'] = 3\n",
    "df_categorical.loc[(df_categorical['cat6_y']>=10000) & (df_categorical['cat6_y']<=99999), 'cat6_num'] = 4\n",
    "df_categorical.loc[(df_categorical['cat6_y']>=100000), 'cat6_num'] = 5\n",
    "df_categorical.drop(['cat6_y','cat6_x','index'],axis=1, inplace=True)\n"
   ]
  },
  {
   "cell_type": "markdown",
   "metadata": {},
   "source": [
    "### Transforming cat7 into ordinal "
   ]
  },
  {
   "cell_type": "code",
   "execution_count": 24,
   "metadata": {},
   "outputs": [],
   "source": [
    "df_2=df_categorical['cat7'].value_counts().to_frame().reset_index()\n",
    "df_categorical = pd.merge(df_categorical, df_2, how='left', left_on='cat7', right_on='index')\n",
    "df_categorical.loc[(df_categorical['cat7_y']>=0) & (df_categorical['cat7_y']<=99), 'cat7_num'] = 1\n",
    "df_categorical.loc[(df_categorical['cat7_y']>=100) & (df_categorical['cat7_y']<=999), 'cat7_num'] = 2\n",
    "df_categorical.loc[(df_categorical['cat7_y']>=1000) & (df_categorical['cat7_y']<=9999), 'cat7_num'] = 3\n",
    "df_categorical.loc[(df_categorical['cat7_y']>=10000) & (df_categorical['cat7_y']<=99999), 'cat7_num'] = 4\n",
    "df_categorical.loc[(df_categorical['cat7_y']>=100000), 'cat7_num'] = 5\n",
    "df_categorical.drop(['cat7_y','cat7_x','index'],axis=1, inplace=True)\n"
   ]
  },
  {
   "cell_type": "markdown",
   "metadata": {},
   "source": [
    "### Transforming cat8 into ordinal "
   ]
  },
  {
   "cell_type": "code",
   "execution_count": 25,
   "metadata": {},
   "outputs": [],
   "source": [
    "df_2=df_categorical['cat8'].value_counts().to_frame().reset_index()\n",
    "df_categorical = pd.merge(df_categorical, df_2, how='left', left_on='cat8', right_on='index')\n",
    "df_categorical.loc[(df_categorical['cat8_y']>=0) & (df_categorical['cat8_y']<=99), 'cat8_num'] = 1\n",
    "df_categorical.loc[(df_categorical['cat8_y']>=100) & (df_categorical['cat8_y']<=999), 'cat8_num'] = 2\n",
    "df_categorical.loc[(df_categorical['cat8_y']>=1000) & (df_categorical['cat8_y']<=9999), 'cat8_num'] = 3\n",
    "df_categorical.loc[(df_categorical['cat8_y']>=10000) & (df_categorical['cat8_y']<=99999), 'cat8_num'] = 4\n",
    "df_categorical.loc[(df_categorical['cat8_y']>=100000), 'cat8_num'] = 5\n",
    "df_categorical.drop(['cat8_y','cat8_x','index'],axis=1, inplace=True)"
   ]
  },
  {
   "cell_type": "markdown",
   "metadata": {},
   "source": [
    "### Transforming cat9 into ordinal "
   ]
  },
  {
   "cell_type": "code",
   "execution_count": 26,
   "metadata": {},
   "outputs": [],
   "source": [
    "df_2=df_categorical['cat9'].value_counts().to_frame().reset_index()\n",
    "df_categorical = pd.merge(df_categorical, df_2, how='left', left_on='cat9', right_on='index')\n",
    "df_categorical.loc[(df_categorical['cat9_y']>=0) & (df_categorical['cat9_y']<=99), 'cat9_num'] = 1\n",
    "df_categorical.loc[(df_categorical['cat9_y']>=100) & (df_categorical['cat9_y']<=999), 'cat9_num'] = 2\n",
    "df_categorical.loc[(df_categorical['cat9_y']>=1000) & (df_categorical['cat9_y']<=9999), 'cat9_num'] = 3\n",
    "df_categorical.loc[(df_categorical['cat9_y']>=10000) & (df_categorical['cat9_y']<=99999), 'cat9_num'] = 4\n",
    "df_categorical.loc[(df_categorical['cat9_y']>=100000), 'cat9_num'] = 5\n",
    "df_categorical.drop(['cat9_y','cat9_x','index'],axis=1, inplace=True)\n"
   ]
  },
  {
   "cell_type": "markdown",
   "metadata": {},
   "source": [
    "### Engineering extra columns\n",
    "* Based on timestamp, I created a new column day, hour\n",
    "* Created a column 'last_click' and 'first_click' to segregate last click and first click based on attribution\n",
    "* Created a column 'delta' that denotes the time difference between the time of the ad and conversion"
   ]
  },
  {
   "cell_type": "code",
   "execution_count": 28,
   "metadata": {},
   "outputs": [],
   "source": [
    "df_extra = pd.DataFrame() \n"
   ]
  },
  {
   "cell_type": "code",
   "execution_count": 29,
   "metadata": {},
   "outputs": [],
   "source": [
    "df_extra['day'] = (df.timestamp / 86400).astype(int)\n",
    "df_extra['hour'] = (df.timestamp / 3600).astype(int)\n",
    "df_extra['last_click'] = df.attribution * (df.click_pos == df.click_nb - 1).astype(int)\n",
    "df_extra['first_click'] = df.attribution * (df.click_pos == 0).astype(int)\n",
    "df_extra['delta'] = -1\n",
    "df_extra.loc[df.conversion == 1, 'delta'] = df['conversion_timestamp'] - df['timestamp']"
   ]
  },
  {
   "cell_type": "code",
   "execution_count": 30,
   "metadata": {},
   "outputs": [
    {
     "data": {
      "text/html": [
       "<div>\n",
       "<style scoped>\n",
       "    .dataframe tbody tr th:only-of-type {\n",
       "        vertical-align: middle;\n",
       "    }\n",
       "\n",
       "    .dataframe tbody tr th {\n",
       "        vertical-align: top;\n",
       "    }\n",
       "\n",
       "    .dataframe thead th {\n",
       "        text-align: right;\n",
       "    }\n",
       "</style>\n",
       "<table border=\"1\" class=\"dataframe\">\n",
       "  <thead>\n",
       "    <tr style=\"text-align: right;\">\n",
       "      <th></th>\n",
       "      <th>day</th>\n",
       "      <th>hour</th>\n",
       "      <th>last_click</th>\n",
       "      <th>first_click</th>\n",
       "      <th>delta</th>\n",
       "    </tr>\n",
       "  </thead>\n",
       "  <tbody>\n",
       "    <tr>\n",
       "      <th>0</th>\n",
       "      <td>0</td>\n",
       "      <td>0</td>\n",
       "      <td>0</td>\n",
       "      <td>0</td>\n",
       "      <td>-1</td>\n",
       "    </tr>\n",
       "    <tr>\n",
       "      <th>1</th>\n",
       "      <td>0</td>\n",
       "      <td>0</td>\n",
       "      <td>0</td>\n",
       "      <td>0</td>\n",
       "      <td>-1</td>\n",
       "    </tr>\n",
       "    <tr>\n",
       "      <th>2</th>\n",
       "      <td>0</td>\n",
       "      <td>0</td>\n",
       "      <td>0</td>\n",
       "      <td>0</td>\n",
       "      <td>-1</td>\n",
       "    </tr>\n",
       "    <tr>\n",
       "      <th>3</th>\n",
       "      <td>0</td>\n",
       "      <td>0</td>\n",
       "      <td>0</td>\n",
       "      <td>0</td>\n",
       "      <td>1449190</td>\n",
       "    </tr>\n",
       "    <tr>\n",
       "      <th>4</th>\n",
       "      <td>0</td>\n",
       "      <td>0</td>\n",
       "      <td>0</td>\n",
       "      <td>0</td>\n",
       "      <td>-1</td>\n",
       "    </tr>\n",
       "    <tr>\n",
       "      <th>...</th>\n",
       "      <td>...</td>\n",
       "      <td>...</td>\n",
       "      <td>...</td>\n",
       "      <td>...</td>\n",
       "      <td>...</td>\n",
       "    </tr>\n",
       "    <tr>\n",
       "      <th>16468022</th>\n",
       "      <td>30</td>\n",
       "      <td>741</td>\n",
       "      <td>0</td>\n",
       "      <td>0</td>\n",
       "      <td>-1</td>\n",
       "    </tr>\n",
       "    <tr>\n",
       "      <th>16468023</th>\n",
       "      <td>30</td>\n",
       "      <td>741</td>\n",
       "      <td>0</td>\n",
       "      <td>0</td>\n",
       "      <td>-1</td>\n",
       "    </tr>\n",
       "    <tr>\n",
       "      <th>16468024</th>\n",
       "      <td>30</td>\n",
       "      <td>741</td>\n",
       "      <td>0</td>\n",
       "      <td>0</td>\n",
       "      <td>-1</td>\n",
       "    </tr>\n",
       "    <tr>\n",
       "      <th>16468025</th>\n",
       "      <td>30</td>\n",
       "      <td>741</td>\n",
       "      <td>0</td>\n",
       "      <td>0</td>\n",
       "      <td>-1</td>\n",
       "    </tr>\n",
       "    <tr>\n",
       "      <th>16468026</th>\n",
       "      <td>30</td>\n",
       "      <td>741</td>\n",
       "      <td>0</td>\n",
       "      <td>0</td>\n",
       "      <td>-1</td>\n",
       "    </tr>\n",
       "  </tbody>\n",
       "</table>\n",
       "<p>16468027 rows × 5 columns</p>\n",
       "</div>"
      ],
      "text/plain": [
       "          day  hour  last_click  first_click    delta\n",
       "0           0     0           0            0       -1\n",
       "1           0     0           0            0       -1\n",
       "2           0     0           0            0       -1\n",
       "3           0     0           0            0  1449190\n",
       "4           0     0           0            0       -1\n",
       "...       ...   ...         ...          ...      ...\n",
       "16468022   30   741           0            0       -1\n",
       "16468023   30   741           0            0       -1\n",
       "16468024   30   741           0            0       -1\n",
       "16468025   30   741           0            0       -1\n",
       "16468026   30   741           0            0       -1\n",
       "\n",
       "[16468027 rows x 5 columns]"
      ]
     },
     "execution_count": 30,
     "metadata": {},
     "output_type": "execute_result"
    }
   ],
   "source": [
    "df_extra"
   ]
  },
  {
   "cell_type": "markdown",
   "metadata": {},
   "source": [
    "### Joined numerical, categorical and extra dataframes into one"
   ]
  },
  {
   "cell_type": "code",
   "execution_count": 31,
   "metadata": {},
   "outputs": [],
   "source": [
    "X2 = df_numerical.join(df_categorical).join(df_extra)"
   ]
  },
  {
   "cell_type": "code",
   "execution_count": 32,
   "metadata": {},
   "outputs": [
    {
     "name": "stdout",
     "output_type": "stream",
     "text": [
      "<class 'pandas.core.frame.DataFrame'>\n",
      "RangeIndex: 16468027 entries, 0 to 16468026\n",
      "Data columns (total 22 columns):\n",
      " #   Column       Dtype  \n",
      "---  ------       -----  \n",
      " 0   uid          int64  \n",
      " 1   click_nb     int64  \n",
      " 2   cost         float64\n",
      " 3   cpo          float64\n",
      " 4   click_pos    int64  \n",
      " 5   attribution  int64  \n",
      " 6   conversion   int64  \n",
      " 7   click        int64  \n",
      " 8   cat1_num     float64\n",
      " 9   cat2_num     float64\n",
      " 10  cat3_num     float64\n",
      " 11  cat4_num     float64\n",
      " 12  cat5_num     float64\n",
      " 13  cat6_num     float64\n",
      " 14  cat7_num     float64\n",
      " 15  cat8_num     float64\n",
      " 16  cat9_num     float64\n",
      " 17  day          int64  \n",
      " 18  hour         int64  \n",
      " 19  last_click   int64  \n",
      " 20  first_click  int64  \n",
      " 21  delta        int64  \n",
      "dtypes: float64(11), int64(11)\n",
      "memory usage: 2.7 GB\n"
     ]
    }
   ],
   "source": [
    "X2.info()"
   ]
  },
  {
   "cell_type": "markdown",
   "metadata": {},
   "source": [
    "#### Converting these converted dataframes into a pickle to use for modeling\n"
   ]
  },
  {
   "cell_type": "code",
   "execution_count": 33,
   "metadata": {},
   "outputs": [],
   "source": [
    "X2.to_pickle(\"./temp_df_2.pkl\")"
   ]
  },
  {
   "cell_type": "markdown",
   "metadata": {},
   "source": [
    "## PLEASE REFER TO THE MODELING FILE FOR MODELING AND RESULS SUMMARY"
   ]
  }
 ],
 "metadata": {
  "kernelspec": {
   "display_name": "Python 3",
   "language": "python",
   "name": "python3"
  },
  "language_info": {
   "codemirror_mode": {
    "name": "ipython",
    "version": 3
   },
   "file_extension": ".py",
   "mimetype": "text/x-python",
   "name": "python",
   "nbconvert_exporter": "python",
   "pygments_lexer": "ipython3",
   "version": "3.8.3"
  }
 },
 "nbformat": 4,
 "nbformat_minor": 4
}
